{
  "nbformat": 4,
  "nbformat_minor": 0,
  "metadata": {
    "colab": {
      "name": "classification using VGG-19.ipynb",
      "provenance": [],
      "collapsed_sections": [],
      "include_colab_link": true
    },
    "kernelspec": {
      "display_name": "Python 3",
      "name": "python3"
    },
    "language_info": {
      "name": "python"
    }
  },
  "cells": [
    {
      "cell_type": "markdown",
      "metadata": {
        "id": "view-in-github",
        "colab_type": "text"
      },
      "source": [
        "<a href=\"https://colab.research.google.com/github/RagaaM/Scriba/blob/main/classification_using_VGG_19.ipynb\" target=\"_parent\"><img src=\"https://colab.research.google.com/assets/colab-badge.svg\" alt=\"Open In Colab\"/></a>"
      ]
    },
    {
      "cell_type": "code",
      "metadata": {
        "id": "bjw9REEvx1ef"
      },
      "source": [
        "from tensorflow.keras.layers import Input, Lambda, Dense, Flatten,Dropout\n",
        "from tensorflow.keras.models import Model\n",
        "from tensorflow.keras.applications.vgg19 import VGG19\n",
        "from tensorflow.keras.applications.vgg19 import preprocess_input\n",
        "from tensorflow.keras.preprocessing import image\n",
        "from tensorflow.keras.preprocessing.image import ImageDataGenerator\n",
        "from tensorflow.keras.models import Sequential\n",
        "import numpy as np\n",
        "import pandas as pd\n",
        "import os\n",
        "import cv2\n",
        "import matplotlib.pyplot as plt"
      ],
      "execution_count": 1,
      "outputs": []
    },
    {
      "cell_type": "code",
      "metadata": {
        "id": "G44-BVfHvk0L"
      },
      "source": [
        "train_path=\"/content/drive/MyDrive/dataset\"\n",
        "test_path=\"/content/drive/MyDrive/dataset\"\n",
        "val_path=\"/content/drive/MyDrive/dataset\""
      ],
      "execution_count": 2,
      "outputs": []
    },
    {
      "cell_type": "code",
      "metadata": {
        "colab": {
          "base_uri": "https://localhost:8080/"
        },
        "id": "ignGo1yVeA1d",
        "outputId": "d75c3274-d378-49cd-cd0d-bbfe0a3bdde4"
      },
      "source": [
        "from google.colab import drive\n",
        "drive.mount('/content/drive')"
      ],
      "execution_count": 3,
      "outputs": [
        {
          "output_type": "stream",
          "name": "stdout",
          "text": [
            "Drive already mounted at /content/drive; to attempt to forcibly remount, call drive.mount(\"/content/drive\", force_remount=True).\n"
          ]
        }
      ]
    },
    {
      "cell_type": "code",
      "metadata": {
        "id": "ou8ecyuqvrOE"
      },
      "source": [
        "x_train=[]\n",
        "\n",
        "for folder in os.listdir(train_path):\n",
        "\n",
        "    sub_path=train_path+\"/\"+folder\n",
        "\n",
        "    for img in os.listdir(sub_path):\n",
        "\n",
        "        image_path=sub_path+\"/\"+img\n",
        "\n",
        "        img_arr=cv2.imread(image_path)\n",
        "\n",
        "        img_arr=cv2.resize(img_arr,(224,224))\n",
        "\n",
        "        x_train.append(img_arr)\n",
        "\n",
        "x_test=[]\n",
        "\n",
        "for folder in os.listdir(test_path):\n",
        "\n",
        "    sub_path=test_path+\"/\"+folder\n",
        "\n",
        "    for img in os.listdir(sub_path):\n",
        "\n",
        "        image_path=sub_path+\"/\"+img\n",
        "\n",
        "        img_arr=cv2.imread(image_path)\n",
        "\n",
        "        img_arr=cv2.resize(img_arr,(224,224))\n",
        "\n",
        "        x_test.append(img_arr)\n",
        "\n",
        "x_val=[]\n",
        "\n",
        "for folder in os.listdir(val_path):\n",
        "\n",
        "    sub_path=val_path+\"/\"+folder\n",
        "\n",
        "    for img in os.listdir(sub_path):\n",
        "\n",
        "        image_path=sub_path+\"/\"+img\n",
        "\n",
        "        img_arr=cv2.imread(image_path)\n",
        "\n",
        "        img_arr=cv2.resize(img_arr,(224,224))\n",
        "\n",
        "        x_val.append(img_arr)"
      ],
      "execution_count": 4,
      "outputs": []
    },
    {
      "cell_type": "code",
      "metadata": {
        "id": "42ZJZLQP084u"
      },
      "source": [
        "train_x=np.array(x_train)\n",
        "test_x=np.array(x_test)\n",
        "val_x=np.array(x_val)"
      ],
      "execution_count": 5,
      "outputs": []
    },
    {
      "cell_type": "code",
      "metadata": {
        "id": "VImNMcke0_CR"
      },
      "source": [
        "train_x=train_x/255.0\n",
        "test_x=test_x/255.0\n",
        "val_x=val_x/255.0"
      ],
      "execution_count": 6,
      "outputs": []
    },
    {
      "cell_type": "code",
      "metadata": {
        "id": "haeeIQyr1A4h"
      },
      "source": [
        "train_datagen = ImageDataGenerator(rescale = 1./255)\n",
        "test_datagen = ImageDataGenerator(rescale = 1./255)\n",
        "val_datagen = ImageDataGenerator(rescale = 1./255)"
      ],
      "execution_count": 7,
      "outputs": []
    },
    {
      "cell_type": "code",
      "metadata": {
        "id": "KHsGaTYx1FWy",
        "colab": {
          "base_uri": "https://localhost:8080/"
        },
        "outputId": "6f27eb23-b2b4-402d-8711-7ef730f9f4a2"
      },
      "source": [
        "training_set = train_datagen.flow_from_directory(train_path,\n",
        "                                                 target_size = (224, 224),\n",
        "                                                 batch_size = 32,\n",
        "                                                 class_mode = 'sparse')\n",
        "test_set = test_datagen.flow_from_directory(test_path,\n",
        "                                            target_size = (224, 224),\n",
        "                                            batch_size = 32,\n",
        "                                            class_mode = 'sparse')\n",
        "val_set = val_datagen.flow_from_directory(val_path,\n",
        "                                            target_size = (224, 224),\n",
        "                                            batch_size = 32,\n",
        "                                            class_mode = 'sparse')"
      ],
      "execution_count": 8,
      "outputs": [
        {
          "output_type": "stream",
          "name": "stdout",
          "text": [
            "Found 80 images belonging to 4 classes.\n",
            "Found 80 images belonging to 4 classes.\n",
            "Found 80 images belonging to 4 classes.\n"
          ]
        }
      ]
    },
    {
      "cell_type": "code",
      "metadata": {
        "id": "2AvlRJp84sxh"
      },
      "source": [
        "train_y=training_set.classes\n",
        "test_y=test_set.classes\n",
        "val_y=val_set.classes"
      ],
      "execution_count": 9,
      "outputs": []
    },
    {
      "cell_type": "code",
      "metadata": {
        "id": "L-88vEam4vPE",
        "colab": {
          "base_uri": "https://localhost:8080/"
        },
        "outputId": "e521628f-9f8b-4848-803b-1e7ed58008ed"
      },
      "source": [
        "training_set.class_indices"
      ],
      "execution_count": 10,
      "outputs": [
        {
          "output_type": "execute_result",
          "data": {
            "text/plain": [
              "{'.ipynb_checkpoints': 0, 'test': 1, 'train': 2, 'val': 3}"
            ]
          },
          "metadata": {},
          "execution_count": 10
        }
      ]
    },
    {
      "cell_type": "code",
      "metadata": {
        "id": "pZfqI1Es4ypU",
        "colab": {
          "base_uri": "https://localhost:8080/"
        },
        "outputId": "317842f5-5383-43cd-9a9d-9e2bbf9ea8f6"
      },
      "source": [
        "train_y.shape,test_y.shape,val_y.shape"
      ],
      "execution_count": 11,
      "outputs": [
        {
          "output_type": "execute_result",
          "data": {
            "text/plain": [
              "((80,), (80,), (80,))"
            ]
          },
          "metadata": {},
          "execution_count": 11
        }
      ]
    },
    {
      "cell_type": "code",
      "metadata": {
        "id": "GfuRBnFC4-0g"
      },
      "source": [
        "#vgg = VGG19(input_shape =(224,224,3), weights='imagenet', include_top=False)\n",
        "IMAGE_SIZE = [224, 224]\n",
        "vgg = VGG19(input_shape=IMAGE_SIZE + [3], weights='imagenet', include_top=False)\n"
      ],
      "execution_count": 12,
      "outputs": []
    },
    {
      "cell_type": "code",
      "metadata": {
        "id": "0SaiXqYiF-fT"
      },
      "source": [
        "#do not train the pre-trained layers of VGG-19\n",
        "for layer in vgg.layers:\n",
        "    layer.trainable = False"
      ],
      "execution_count": 13,
      "outputs": []
    },
    {
      "cell_type": "code",
      "metadata": {
        "id": "OtV4QUl_6WSp"
      },
      "source": [
        "x = Flatten()(vgg.output)"
      ],
      "execution_count": 14,
      "outputs": []
    },
    {
      "cell_type": "code",
      "metadata": {
        "id": "nB38JT1I6cMU"
      },
      "source": [
        "#adding output layer.Softmax classifier is used as it is multi-class classification\n",
        "prediction = Dense(4, activation='softmax')(x)\n",
        "\n",
        "model = Model(inputs=vgg.input, outputs=prediction)"
      ],
      "execution_count": 15,
      "outputs": []
    },
    {
      "cell_type": "code",
      "metadata": {
        "id": "MjXTnqJ96cxp",
        "colab": {
          "base_uri": "https://localhost:8080/"
        },
        "outputId": "be1b3eff-6d15-4054-f31a-adcec076918d"
      },
      "source": [
        "# view the structure of the model\n",
        "model.summary()"
      ],
      "execution_count": 16,
      "outputs": [
        {
          "output_type": "stream",
          "name": "stdout",
          "text": [
            "Model: \"model\"\n",
            "_________________________________________________________________\n",
            " Layer (type)                Output Shape              Param #   \n",
            "=================================================================\n",
            " input_1 (InputLayer)        [(None, 224, 224, 3)]     0         \n",
            "                                                                 \n",
            " block1_conv1 (Conv2D)       (None, 224, 224, 64)      1792      \n",
            "                                                                 \n",
            " block1_conv2 (Conv2D)       (None, 224, 224, 64)      36928     \n",
            "                                                                 \n",
            " block1_pool (MaxPooling2D)  (None, 112, 112, 64)      0         \n",
            "                                                                 \n",
            " block2_conv1 (Conv2D)       (None, 112, 112, 128)     73856     \n",
            "                                                                 \n",
            " block2_conv2 (Conv2D)       (None, 112, 112, 128)     147584    \n",
            "                                                                 \n",
            " block2_pool (MaxPooling2D)  (None, 56, 56, 128)       0         \n",
            "                                                                 \n",
            " block3_conv1 (Conv2D)       (None, 56, 56, 256)       295168    \n",
            "                                                                 \n",
            " block3_conv2 (Conv2D)       (None, 56, 56, 256)       590080    \n",
            "                                                                 \n",
            " block3_conv3 (Conv2D)       (None, 56, 56, 256)       590080    \n",
            "                                                                 \n",
            " block3_conv4 (Conv2D)       (None, 56, 56, 256)       590080    \n",
            "                                                                 \n",
            " block3_pool (MaxPooling2D)  (None, 28, 28, 256)       0         \n",
            "                                                                 \n",
            " block4_conv1 (Conv2D)       (None, 28, 28, 512)       1180160   \n",
            "                                                                 \n",
            " block4_conv2 (Conv2D)       (None, 28, 28, 512)       2359808   \n",
            "                                                                 \n",
            " block4_conv3 (Conv2D)       (None, 28, 28, 512)       2359808   \n",
            "                                                                 \n",
            " block4_conv4 (Conv2D)       (None, 28, 28, 512)       2359808   \n",
            "                                                                 \n",
            " block4_pool (MaxPooling2D)  (None, 14, 14, 512)       0         \n",
            "                                                                 \n",
            " block5_conv1 (Conv2D)       (None, 14, 14, 512)       2359808   \n",
            "                                                                 \n",
            " block5_conv2 (Conv2D)       (None, 14, 14, 512)       2359808   \n",
            "                                                                 \n",
            " block5_conv3 (Conv2D)       (None, 14, 14, 512)       2359808   \n",
            "                                                                 \n",
            " block5_conv4 (Conv2D)       (None, 14, 14, 512)       2359808   \n",
            "                                                                 \n",
            " block5_pool (MaxPooling2D)  (None, 7, 7, 512)         0         \n",
            "                                                                 \n",
            " flatten (Flatten)           (None, 25088)             0         \n",
            "                                                                 \n",
            " dense (Dense)               (None, 4)                 100356    \n",
            "                                                                 \n",
            "=================================================================\n",
            "Total params: 20,124,740\n",
            "Trainable params: 100,356\n",
            "Non-trainable params: 20,024,384\n",
            "_________________________________________________________________\n"
          ]
        }
      ]
    },
    {
      "cell_type": "code",
      "metadata": {
        "id": "V52f2xkTAcpI"
      },
      "source": [
        "model.compile(\n",
        "  loss='sparse_categorical_crossentropy',\n",
        "  optimizer=\"adam\",\n",
        "  metrics=['accuracy']\n",
        ")"
      ],
      "execution_count": 17,
      "outputs": []
    },
    {
      "cell_type": "code",
      "metadata": {
        "id": "cRbrZEweAk2m"
      },
      "source": [
        "from tensorflow.keras.callbacks import EarlyStopping\n",
        "early_stop=EarlyStopping(monitor='val_loss',mode='min',verbose=1,patience=5)\n",
        "#Early stopping to avoid overfitting of model"
      ],
      "execution_count": 18,
      "outputs": []
    },
    {
      "cell_type": "code",
      "metadata": {
        "id": "47xqGmpLAqmG",
        "colab": {
          "base_uri": "https://localhost:8080/"
        },
        "outputId": "e8f274e2-c43b-4f5e-8507-ae87bb250ea5"
      },
      "source": [
        "# fit the model\n",
        "history = model.fit(\n",
        "  train_x,\n",
        "  train_y,\n",
        "  validation_data=(val_x,val_y),\n",
        "  epochs=12,\n",
        "  callbacks=[early_stop],\n",
        "  batch_size=32,shuffle=True)\n"
      ],
      "execution_count": 19,
      "outputs": [
        {
          "output_type": "stream",
          "name": "stdout",
          "text": [
            "Epoch 1/12\n",
            "3/3 [==============================] - 106s 41s/step - loss: 2.2887 - accuracy: 0.5000 - val_loss: 0.9294 - val_accuracy: 0.6000\n",
            "Epoch 2/12\n",
            "3/3 [==============================] - 100s 40s/step - loss: 1.5194 - accuracy: 0.3875 - val_loss: 1.0562 - val_accuracy: 0.4625\n",
            "Epoch 3/12\n",
            "3/3 [==============================] - 101s 40s/step - loss: 1.4046 - accuracy: 0.4750 - val_loss: 1.4539 - val_accuracy: 0.6000\n",
            "Epoch 4/12\n",
            "3/3 [==============================] - 100s 40s/step - loss: 1.2330 - accuracy: 0.6375 - val_loss: 0.9919 - val_accuracy: 0.4625\n",
            "Epoch 5/12\n",
            "3/3 [==============================] - 100s 40s/step - loss: 1.0191 - accuracy: 0.4875 - val_loss: 0.8018 - val_accuracy: 0.6375\n",
            "Epoch 6/12\n",
            "3/3 [==============================] - 100s 40s/step - loss: 0.7807 - accuracy: 0.6875 - val_loss: 0.6863 - val_accuracy: 0.6750\n",
            "Epoch 7/12\n",
            "3/3 [==============================] - 100s 40s/step - loss: 0.6565 - accuracy: 0.6875 - val_loss: 0.5829 - val_accuracy: 0.8250\n",
            "Epoch 8/12\n",
            "3/3 [==============================] - 101s 40s/step - loss: 0.5769 - accuracy: 0.8375 - val_loss: 0.5178 - val_accuracy: 0.8750\n",
            "Epoch 9/12\n",
            "3/3 [==============================] - 100s 40s/step - loss: 0.5088 - accuracy: 0.8500 - val_loss: 0.4795 - val_accuracy: 0.8000\n",
            "Epoch 10/12\n",
            "3/3 [==============================] - 100s 40s/step - loss: 0.4772 - accuracy: 0.8500 - val_loss: 0.4424 - val_accuracy: 0.9250\n",
            "Epoch 11/12\n",
            "3/3 [==============================] - 100s 40s/step - loss: 0.4536 - accuracy: 0.9250 - val_loss: 0.4123 - val_accuracy: 0.9125\n",
            "Epoch 12/12\n",
            "3/3 [==============================] - 100s 40s/step - loss: 0.4283 - accuracy: 0.8625 - val_loss: 0.3860 - val_accuracy: 0.8875\n"
          ]
        }
      ]
    },
    {
      "cell_type": "code",
      "metadata": {
        "id": "0asy-mkRN-Nd",
        "colab": {
          "base_uri": "https://localhost:8080/"
        },
        "outputId": "98eaac39-17ca-4894-f1bf-96165125c1a4"
      },
      "source": [
        "model.evaluate(test_x,test_y,batch_size=32)"
      ],
      "execution_count": 20,
      "outputs": [
        {
          "output_type": "stream",
          "name": "stdout",
          "text": [
            "3/3 [==============================] - 50s 15s/step - loss: 0.3860 - accuracy: 0.8875\n"
          ]
        },
        {
          "output_type": "execute_result",
          "data": {
            "text/plain": [
              "[0.38601183891296387, 0.887499988079071]"
            ]
          },
          "metadata": {},
          "execution_count": 20
        }
      ]
    },
    {
      "cell_type": "code",
      "metadata": {
        "id": "4J7y1xSdP8U1",
        "colab": {
          "base_uri": "https://localhost:8080/",
          "height": 265
        },
        "outputId": "6fb2510c-d59f-40b0-83f4-99e9ed818b17"
      },
      "source": [
        "# accuracies\n",
        "\n",
        "plt.plot(history.history['accuracy'], label='train acc')\n",
        "\n",
        "plt.plot(history.history['val_accuracy'], label='val acc')\n",
        "\n",
        "plt.legend()\n",
        "\n",
        "plt.savefig('vgg-acc-rps-1.png')\n",
        "\n",
        "plt.show()"
      ],
      "execution_count": 21,
      "outputs": [
        {
          "output_type": "display_data",
          "data": {
            "image/png": "[encoded data removed]",
            "text/plain": [
              "<Figure size 432x288 with 1 Axes>"
            ]
          },
          "metadata": {
            "needs_background": "light"
          }
        }
      ]
    },
    {
      "cell_type": "code",
      "metadata": {
        "id": "vmrD9S7NRs4C",
        "colab": {
          "base_uri": "https://localhost:8080/"
        },
        "outputId": "87e4a285-dc9f-4c93-cc9c-1183357bb8e3"
      },
      "source": [
        "from sklearn.metrics import accuracy_score,classification_report,confusion_matrix\n",
        "import numpy as np\n",
        "#predict\n",
        "y_pred=model.predict(test_x)\n",
        "y_pred=np.argmax(y_pred,axis=1)\n",
        "#get classification report\n",
        "print(classification_report(y_pred,test_y))\n",
        "#get confusion matrix\n",
        "print(confusion_matrix(y_pred,test_y))"
      ],
      "execution_count": 22,
      "outputs": [
        {
          "output_type": "stream",
          "name": "stdout",
          "text": [
            "              precision    recall  f1-score   support\n",
            "\n",
            "           1       0.65      1.00      0.79        13\n",
            "           2       1.00      0.84      0.91        57\n",
            "           3       0.83      1.00      0.91        10\n",
            "\n",
            "    accuracy                           0.89        80\n",
            "   macro avg       0.83      0.95      0.87        80\n",
            "weighted avg       0.92      0.89      0.89        80\n",
            "\n",
            "[[13  0  0]\n",
            " [ 7 48  2]\n",
            " [ 0  0 10]]\n"
          ]
        }
      ]
    }
  ]
}