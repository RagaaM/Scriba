{
  "nbformat": 4,
  "nbformat_minor": 0,
  "metadata": {
    "colab": {
      "name": "dataset-segmentation.ipynb",
      "provenance": [],
      "toc_visible": true,
      "authorship_tag": "ABX9TyMNxftF1o9NZk2VgCTJ9Xqq"
    },
    "kernelspec": {
      "name": "python3",
      "display_name": "Python 3"
    },
    "language_info": {
      "name": "python"
    }
  },
  "cells": [
    {
      "cell_type": "code",
      "execution_count": 2,
      "metadata": {
        "colab": {
          "base_uri": "https://localhost:8080/"
        },
        "id": "368tv2NmfbtP",
        "outputId": "58c82a2d-75a5-4650-8ac0-51d5480996b6"
      },
      "outputs": [
        {
          "output_type": "stream",
          "name": "stdout",
          "text": [
            "Mounted at /content/drive\n"
          ]
        }
      ],
      "source": [
        "from google.colab import drive\n",
        "drive.mount('/content/drive')"
      ]
    },
    {
      "cell_type": "code",
      "source": [
        "import numpy as numpy\n",
        "import cv2\n",
        "from matplotlib import pyplot as plt"
      ],
      "metadata": {
        "id": "JzTMdxD0gkxD"
      },
      "execution_count": 3,
      "outputs": []
    },
    {
      "cell_type": "code",
      "source": [
        "datasetPath = '/content/drive/MyDrive/Colab Notebooks/Scriba/Dataset/'\n",
        "LABELS = set([\"0\",\"1\",\"2\", \"3\", \"4\", \"5\", \"6\", \"7\", \"8\", \"9\"])\n",
        "\n",
        "from imutils import paths\n",
        "import cv2\n",
        "import os\n",
        "\n",
        "print(\"[INFO] loading images...\")\n",
        "imagePaths = list(paths.list_images(datasetPath))\n",
        "data = []\n",
        "labels = []"
      ],
      "metadata": {
        "id": "_VVc9z3OgueU",
        "colab": {
          "base_uri": "https://localhost:8080/"
        },
        "outputId": "41fdc572-faef-44b1-e26a-36db450541b4"
      },
      "execution_count": 4,
      "outputs": [
        {
          "output_type": "stream",
          "name": "stdout",
          "text": [
            "[INFO] loading images...\n"
          ]
        }
      ]
    },
    {
      "cell_type": "code",
      "source": [
        "#loop over image paths\n",
        "\n",
        "for imagePath in imagePaths:\n",
        "    #extract the class label from the filename\n",
        "    label = imagePath.split(os.path.sep)[-2]\n",
        "    \n",
        "    #If the label of the current image is not part of the LABELS set\n",
        "    #then ignore the image     \n",
        "    if label not in LABELS:\n",
        "        continue\n",
        "    # load the image, swap color channels, and resize it to be a fixed\n",
        "    # 224x224 pixels while ignoring aspect ratio\n",
        "    image = cv2.imread(imagePath)\n",
        "    image = cv2.cvtColor(image, cv2.COLOR_BGR2GRAY)\n",
        "    image = cv2.resize(image, (224, 224))   \n",
        "    gaussian_blur = cv2.GaussianBlur(image, (5,5), 1.5)\n",
        "    ret, thresh = cv2.threshold(gaussian_blur, 0, 255, cv2.THRESH_BINARY_INV + \n",
        "                                            cv2.THRESH_OTSU)  \n",
        "    # plt.imshow(thresh, cmap='gray')\n",
        "    # plt.axis('off')\n",
        "    # plt.show()\n",
        "     # update the data and labels lists, respectively\n",
        "    data.append(thresh)\n",
        "    labels.append(label)"
      ],
      "metadata": {
        "id": "2gxHJrzA_Ul7"
      },
      "execution_count": null,
      "outputs": []
    }
  ]
}